{
 "cells": [
  {
   "cell_type": "code",
   "execution_count": 1,
   "metadata": {},
   "outputs": [],
   "source": [
    "from gurobipy import GRB\n",
    "import gurobipy as gb"
   ]
  },
  {
   "cell_type": "code",
   "execution_count": 2,
   "metadata": {},
   "outputs": [
    {
     "name": "stdout",
     "output_type": "stream",
     "text": [
      "Set parameter Username\n",
      "Academic license - for non-commercial use only - expires 2024-01-12\n"
     ]
    }
   ],
   "source": [
    "model = gb.Model(\"ED Staffing\")"
   ]
  },
  {
   "cell_type": "code",
   "execution_count": 3,
   "metadata": {},
   "outputs": [],
   "source": [
    "x = model.addVars(28, 3, 3, vtype = GRB.BINARY, name=\"Physician i, Staffed On Shift j, on Day k\")"
   ]
  },
  {
   "attachments": {},
   "cell_type": "markdown",
   "metadata": {},
   "source": [
    "Import Data Respective to Each Physician "
   ]
  },
  {
   "cell_type": "code",
   "execution_count": 4,
   "metadata": {},
   "outputs": [],
   "source": [
    "Physician_speed = [\n",
    "234.37092731829574,\n",
    "259.7377165577961,\n",
    "999.0,\n",
    "262.5791726105563,\n",
    "183.57051460361615,\n",
    "217.92519685039372,\n",
    "262.6868131868132,\n",
    "268.8324258099646,\n",
    "243.86320109439126,\n",
    "269.22103592555186,\n",
    "242.03161460293563,\n",
    "250.64790973528133,\n",
    "228.53105802047781,\n",
    "211.19029374201787,\n",
    "223.32002249718786,\n",
    "280.048231511254,\n",
    "249.26356835906415,\n",
    "290.7238095238095,\n",
    "268.7877358490566,\n",
    "999.0,\n",
    "226.9508990318119,\n",
    "211.70398277717976,\n",
    "256.45701096364684,\n",
    "199.46953781512605,\n",
    "200.699158174568,\n",
    "223.15081339712918,\n",
    "227.2958928571429,\n",
    "220.85367454068242]\n",
    "\n",
    "Physician_quality = [\n",
    "0.04211162603264154,\n",
    "0.028020623178659495,\n",
    "999.0,\n",
    "0.03969957081545064,\n",
    "0.02779937791601866,\n",
    "0.03539292141571686,\n",
    "0.027027027027027032,\n",
    "0.0344896731501905,\n",
    "0.027281063732232918,\n",
    "0.029454722492697177,\n",
    "0.02750146284376829,\n",
    "0.032562125107112254,\n",
    "0.023575638506876228,\n",
    "0.023508137432188065,\n",
    "0.04063745019920319,\n",
    "0.01762114537444934,\n",
    "0.04724880382775119,\n",
    "0.015873015873015872,\n",
    "0.00684931506849315,\n",
    "999.0,\n",
    "0.036702127659574466,\n",
    "0.04199475065616798,\n",
    "0.02601156069364162,\n",
    "0.02787286063569682,\n",
    "0.040104053761109905,\n",
    "0.03651354534746761,\n",
    "0.03734827264239029,\n",
    "0.03755868544600939]\n",
    "\n",
    "Physician_capacity = [\n",
    "362.71204188481676,\n",
    "368.22222222222223,\n",
    "0.0,\n",
    "446.94827586206895,\n",
    "292.0394088669951,\n",
    "336.9267015706806,\n",
    "446.9130434782609,\n",
    "408.07894736842104,\n",
    "385.3030303030303,\n",
    "426.13775510204084,\n",
    "390.84,\n",
    "361.1803278688525,\n",
    "350.42105263157896,\n",
    "425.030303030303,\n",
    "386.90714285714284,\n",
    "592.421052631579,\n",
    "404.3492063492063,\n",
    "415.44444444444446,\n",
    "426.0,\n",
    "0.0,\n",
    "358.90425531914894,\n",
    "324.5769230769231,\n",
    "363.4761904761905,\n",
    "305.5584415584416,\n",
    "365.3368983957219,\n",
    "353.84276729559747,\n",
    "332.0506329113924,\n",
    "339.26190476190476]"
   ]
  },
  {
   "attachments": {},
   "cell_type": "markdown",
   "metadata": {},
   "source": [
    "2D array of E[X] value pairs"
   ]
  },
  {
   "cell_type": "code",
   "execution_count": 5,
   "metadata": {},
   "outputs": [],
   "source": [
    "EX_values = [[2615.0100304588204, 2224.3150834052317, 2116.8572771478744],\n",
    " [933.7482651610213, 817.945374108041, 764.2008534653297],\n",
    " [293.94786258404037, 317.1954847371322, 339.20551283922543]]"
   ]
  },
  {
   "attachments": {},
   "cell_type": "markdown",
   "metadata": {},
   "source": [
    "Objective Function"
   ]
  },
  {
   "cell_type": "code",
   "execution_count": 6,
   "metadata": {},
   "outputs": [],
   "source": [
    "model.setObjective(gb.quicksum(\n",
    "    (x[i,j,k] * Physician_speed[i] + x[i,j,k] * Physician_quality[i]) * EX_values[j][k]\n",
    "    for i in range(28) for j in range(3) for k in range(3)), GRB.MINIMIZE)"
   ]
  },
  {
   "attachments": {},
   "cell_type": "markdown",
   "metadata": {},
   "source": [
    "Contraints (Set 1)"
   ]
  },
  {
   "attachments": {},
   "cell_type": "markdown",
   "metadata": {},
   "source": [
    "Which Physicians Don't Exist "
   ]
  },
  {
   "cell_type": "code",
   "execution_count": 7,
   "metadata": {},
   "outputs": [],
   "source": [
    "for j in range(3): #Physician 3 not in dataset\n",
    "    for k in range(3):\n",
    "        model.addConstr(x[2,j,k]==0)\n",
    "\n",
    "for j in range(3): #Physician 20 not in dataset\n",
    "    for k in range(3):\n",
    "        model.addConstr(x[19,j,k]==0)"
   ]
  },
  {
   "attachments": {},
   "cell_type": "markdown",
   "metadata": {},
   "source": [
    "Which Physicians No Longer Work in the Department based on the Last 6 Months"
   ]
  },
  {
   "cell_type": "code",
   "execution_count": 8,
   "metadata": {},
   "outputs": [],
   "source": [
    "for j in range(3): #Physician 22\n",
    "    for k in range(3):\n",
    "        model.addConstr(x[21,j,k]==0)\n",
    "\n",
    "for j in range(3): #Physician 28\n",
    "    for k in range(3):\n",
    "        model.addConstr(x[27,j,k]==0)"
   ]
  },
  {
   "attachments": {},
   "cell_type": "markdown",
   "metadata": {},
   "source": [
    "Demand Constraints"
   ]
  },
  {
   "cell_type": "code",
   "execution_count": 9,
   "metadata": {},
   "outputs": [],
   "source": [
    "for j in range(3):\n",
    "    for k in range(3):\n",
    "        model.addConstr(gb.quicksum(x[i,j,k]*Physician_capacity[i] for i in range(28))>=EX_values[j][k])\n",
    "        "
   ]
  },
  {
   "attachments": {},
   "cell_type": "markdown",
   "metadata": {},
   "source": [
    "Labour Constraints"
   ]
  },
  {
   "cell_type": "markdown",
   "metadata": {},
   "source": [
    "Only One Shift Per Day"
   ]
  },
  {
   "cell_type": "code",
   "execution_count": 10,
   "metadata": {},
   "outputs": [],
   "source": [
    "for i in range(28):\n",
    "    for k in range(3):\n",
    "        model.addConstr(gb.quicksum(x[i, j, k] for j in range(3)) <= 1)\n"
   ]
  },
  {
   "cell_type": "markdown",
   "metadata": {},
   "source": [
    "Night Shift is Not Followed by Day Shift"
   ]
  },
  {
   "cell_type": "code",
   "execution_count": 11,
   "metadata": {},
   "outputs": [],
   "source": [
    "for i in range(28):\n",
    "    for k in range(2):\n",
    "        model.addConstr(x[i, 2, k] + x[i, 0, k+1] <= 1)"
   ]
  },
  {
   "cell_type": "markdown",
   "metadata": {},
   "source": [
    "Physician Specific Constraints (Set 2)"
   ]
  },
  {
   "attachments": {},
   "cell_type": "markdown",
   "metadata": {},
   "source": [
    "Will Not Work Certain Shifts"
   ]
  },
  {
   "cell_type": "code",
   "execution_count": 12,
   "metadata": {},
   "outputs": [],
   "source": [
    "for k in range(3):\n",
    "    model.addConstr(x[6, 1, k]==0)\n",
    "\n",
    "for k in range(3):\n",
    "    model.addConstr(x[6, 2, k]==0)\n",
    "\n",
    "for k in range(3):\n",
    "    model.addConstr(x[12, 2, k]==0)\n",
    "\n",
    "for k in range(3):\n",
    "    model.addConstr(x[15, 1, k]==0)\n",
    "\n",
    "for k in range(3):\n",
    "    model.addConstr(x[15, 2, k]==0)\n",
    "\n",
    "for k in range(3):\n",
    "    model.addConstr(x[17, 1, k]==0)\n",
    "\n",
    "for k in range(3):\n",
    "    model.addConstr(x[17, 2, k]==0)\n",
    "\n",
    "for k in range(3):\n",
    "    model.addConstr(x[18, 1, k]==0)\n",
    "\n",
    "for k in range(3):\n",
    "    model.addConstr(x[18, 2, k]==0)\n",
    "\n",
    "for k in range(3):\n",
    "    model.addConstr(x[20, 2, k]==0)"
   ]
  },
  {
   "attachments": {},
   "cell_type": "markdown",
   "metadata": {},
   "source": [
    "Will Not Work Certain Days"
   ]
  },
  {
   "cell_type": "code",
   "execution_count": 13,
   "metadata": {},
   "outputs": [],
   "source": [
    "for j in range(3):\n",
    "    model.addConstr(x[0, j, 0]==0)\n",
    "\n",
    "for j in range(3):\n",
    "    model.addConstr(x[0, j, 1]==0)\n",
    "\n",
    "for j in range(3):\n",
    "    model.addConstr(x[6, j, 0]==0)"
   ]
  },
  {
   "attachments": {},
   "cell_type": "markdown",
   "metadata": {},
   "source": [
    "Reserve Physicians at Most Once a Week (Set 3)"
   ]
  },
  {
   "cell_type": "code",
   "execution_count": 14,
   "metadata": {},
   "outputs": [
    {
     "data": {
      "text/plain": [
       "<gurobi.Constr *Awaiting Model Update*>"
      ]
     },
     "execution_count": 14,
     "metadata": {},
     "output_type": "execute_result"
    }
   ],
   "source": [
    "model.addConstr(gb.quicksum(x[6,j,k] for j in range(3) for k in range(3))<=1)\n",
    "model.addConstr(gb.quicksum(x[12,j,k] for j in range(3) for k in range(3))<=1)\n",
    "model.addConstr(gb.quicksum(x[13,j,k] for j in range(3) for k in range(3))<=1)\n",
    "model.addConstr(gb.quicksum(x[15,j,k] for j in range(3) for k in range(3))<=1)\n",
    "model.addConstr(gb.quicksum(x[17,j,k] for j in range(3) for k in range(3))<=1)\n",
    "model.addConstr(gb.quicksum(x[18,j,k] for j in range(3) for k in range(3))<=1)\n",
    "#set RHS to 0 for adjusted constraint for no reserve physicians should work\n"
   ]
  },
  {
   "attachments": {},
   "cell_type": "markdown",
   "metadata": {},
   "source": [
    "Physician One Should Work at Least Once on Wednesday"
   ]
  },
  {
   "cell_type": "code",
   "execution_count": 15,
   "metadata": {},
   "outputs": [
    {
     "data": {
      "text/plain": [
       "<gurobi.Constr *Awaiting Model Update*>"
      ]
     },
     "execution_count": 15,
     "metadata": {},
     "output_type": "execute_result"
    }
   ],
   "source": [
    "model.addConstr(gb.quicksum(x[0,j,2] for j in range(3))>=1)"
   ]
  },
  {
   "attachments": {},
   "cell_type": "markdown",
   "metadata": {},
   "source": [
    "Optimize Model and Print "
   ]
  },
  {
   "cell_type": "code",
   "execution_count": 16,
   "metadata": {},
   "outputs": [
    {
     "name": "stdout",
     "output_type": "stream",
     "text": [
      "Gurobi Optimizer version 10.0.0 build v10.0.0rc2 (mac64[x86])\n",
      "\n",
      "CPU model: Intel(R) Core(TM) i5-8257U CPU @ 1.40GHz\n",
      "Thread count: 4 physical cores, 8 logical processors, using up to 8 threads\n",
      "\n",
      "Optimize a model with 231 rows, 252 columns and 730 nonzeros\n",
      "Model fingerprint: 0x0cf3029e\n",
      "Variable types: 0 continuous, 252 integer (252 binary)\n",
      "Coefficient statistics:\n",
      "  Matrix range     [1e+00, 6e+02]\n",
      "  Objective range  [5e+04, 5e+06]\n",
      "  Bounds range     [1e+00, 1e+00]\n",
      "  RHS range        [1e+00, 3e+03]\n",
      "Presolve removed 133 rows and 74 columns\n",
      "Presolve time: 0.00s\n",
      "Presolved: 98 rows, 178 columns, 418 nonzeros\n",
      "Variable types: 0 continuous, 178 integer (178 binary)\n",
      "Found heuristic solution: objective 1.243494e+07\n",
      "\n",
      "Root relaxation: objective 1.084608e+07, 36 iterations, 0.00 seconds (0.00 work units)\n",
      "\n",
      "    Nodes    |    Current Node    |     Objective Bounds      |     Work\n",
      " Expl Unexpl |  Obj  Depth IntInf | Incumbent    BestBd   Gap | It/Node Time\n",
      "\n",
      "     0     0 1.0846e+07    0    9 1.2435e+07 1.0846e+07  12.8%     -    0s\n",
      "H    0     0                    1.136634e+07 1.0846e+07  4.58%     -    0s\n",
      "H    0     0                    1.121524e+07 1.0846e+07  3.29%     -    0s\n",
      "     0     0 1.0855e+07    0   17 1.1215e+07 1.0855e+07  3.21%     -    0s\n",
      "     0     0 1.0886e+07    0   18 1.1215e+07 1.0886e+07  2.94%     -    0s\n",
      "     0     0 1.0891e+07    0   17 1.1215e+07 1.0891e+07  2.90%     -    0s\n",
      "     0     0 1.0901e+07    0   21 1.1215e+07 1.0901e+07  2.80%     -    0s\n",
      "     0     0 1.0913e+07    0   21 1.1215e+07 1.0913e+07  2.70%     -    0s\n",
      "     0     0 1.0920e+07    0   21 1.1215e+07 1.0920e+07  2.64%     -    0s\n",
      "H    0     0                    1.109192e+07 1.0920e+07  1.55%     -    0s\n",
      "     0     0 1.0926e+07    0   17 1.1092e+07 1.0926e+07  1.50%     -    0s\n",
      "H    0     0                    1.103285e+07 1.0926e+07  0.97%     -    0s\n",
      "     0     0 1.0931e+07    0   14 1.1033e+07 1.0931e+07  0.92%     -    0s\n",
      "     0     0 1.0932e+07    0   12 1.1033e+07 1.0932e+07  0.91%     -    0s\n",
      "H    0     0                    1.097178e+07 1.0933e+07  0.35%     -    0s\n",
      "     0     0 1.0933e+07    0   21 1.0972e+07 1.0933e+07  0.35%     -    0s\n",
      "     0     0 1.0934e+07    0   19 1.0972e+07 1.0934e+07  0.34%     -    0s\n",
      "     0     0 1.0934e+07    0   22 1.0972e+07 1.0934e+07  0.34%     -    0s\n",
      "     0     0 1.0935e+07    0   27 1.0972e+07 1.0935e+07  0.34%     -    0s\n",
      "     0     0 1.0938e+07    0   32 1.0972e+07 1.0938e+07  0.31%     -    0s\n",
      "     0     0 1.0941e+07    0   36 1.0972e+07 1.0941e+07  0.28%     -    0s\n",
      "     0     0 1.0943e+07    0   35 1.0972e+07 1.0943e+07  0.26%     -    0s\n",
      "     0     0 1.0943e+07    0    9 1.0972e+07 1.0943e+07  0.26%     -    0s\n",
      "     0     0 1.0943e+07    0   17 1.0972e+07 1.0943e+07  0.26%     -    0s\n",
      "     0     0 1.0943e+07    0   11 1.0972e+07 1.0943e+07  0.26%     -    0s\n",
      "     0     0 1.0943e+07    0    9 1.0972e+07 1.0943e+07  0.26%     -    0s\n",
      "     0     0 1.0943e+07    0   22 1.0972e+07 1.0943e+07  0.26%     -    0s\n",
      "     0     0 1.0943e+07    0   24 1.0972e+07 1.0943e+07  0.26%     -    0s\n",
      "     0     0 1.0943e+07    0   19 1.0972e+07 1.0943e+07  0.26%     -    0s\n",
      "     0     0 1.0943e+07    0   18 1.0972e+07 1.0943e+07  0.26%     -    0s\n",
      "     0     0 1.0944e+07    0   28 1.0972e+07 1.0944e+07  0.25%     -    0s\n",
      "     0     0 1.0946e+07    0   32 1.0972e+07 1.0946e+07  0.23%     -    0s\n",
      "     0     0 1.0947e+07    0   33 1.0972e+07 1.0947e+07  0.23%     -    0s\n",
      "     0     0 1.0948e+07    0   29 1.0972e+07 1.0948e+07  0.22%     -    0s\n",
      "     0     0 1.0948e+07    0   32 1.0972e+07 1.0948e+07  0.22%     -    0s\n",
      "     0     0 1.0948e+07    0   29 1.0972e+07 1.0948e+07  0.21%     -    0s\n",
      "     0     0 1.0949e+07    0   24 1.0972e+07 1.0949e+07  0.21%     -    0s\n",
      "     0     0 1.0949e+07    0   26 1.0972e+07 1.0949e+07  0.21%     -    0s\n",
      "     0     0 1.0950e+07    0   27 1.0972e+07 1.0950e+07  0.20%     -    0s\n",
      "     0     0 1.0950e+07    0   29 1.0972e+07 1.0950e+07  0.20%     -    0s\n",
      "     0     0 1.0951e+07    0   32 1.0972e+07 1.0951e+07  0.19%     -    0s\n",
      "     0     0 1.0952e+07    0   28 1.0972e+07 1.0952e+07  0.18%     -    0s\n",
      "     0     0 1.0952e+07    0   28 1.0972e+07 1.0952e+07  0.18%     -    0s\n",
      "     0     0 1.0953e+07    0   32 1.0972e+07 1.0953e+07  0.17%     -    0s\n",
      "     0     0 1.0955e+07    0   30 1.0972e+07 1.0955e+07  0.15%     -    0s\n",
      "     0     0 1.0957e+07    0   33 1.0972e+07 1.0957e+07  0.14%     -    0s\n",
      "     0     0 1.0957e+07    0   34 1.0972e+07 1.0957e+07  0.14%     -    0s\n",
      "     0     0 1.0957e+07    0   34 1.0972e+07 1.0957e+07  0.14%     -    0s\n",
      "     0     0 1.0957e+07    0   35 1.0972e+07 1.0957e+07  0.13%     -    0s\n",
      "     0     0 1.0960e+07    0   29 1.0972e+07 1.0960e+07  0.11%     -    0s\n",
      "     0     0 1.0960e+07    0   31 1.0972e+07 1.0960e+07  0.11%     -    0s\n",
      "     0     0 1.0961e+07    0   31 1.0972e+07 1.0961e+07  0.09%     -    0s\n",
      "     0     0 1.0962e+07    0   33 1.0972e+07 1.0962e+07  0.09%     -    0s\n",
      "     0     0 1.0962e+07    0    5 1.0972e+07 1.0962e+07  0.09%     -    0s\n",
      "     0     0 1.0962e+07    0    9 1.0972e+07 1.0962e+07  0.09%     -    0s\n",
      "     0     0 1.0962e+07    0   14 1.0972e+07 1.0962e+07  0.09%     -    0s\n",
      "     0     0 1.0962e+07    0   13 1.0972e+07 1.0962e+07  0.09%     -    0s\n",
      "     0     0 1.0962e+07    0    6 1.0972e+07 1.0962e+07  0.09%     -    0s\n",
      "     0     0 1.0962e+07    0   19 1.0972e+07 1.0962e+07  0.09%     -    0s\n",
      "     0     0 1.0962e+07    0   21 1.0972e+07 1.0962e+07  0.09%     -    0s\n",
      "     0     0 1.0962e+07    0   23 1.0972e+07 1.0962e+07  0.09%     -    0s\n",
      "     0     0 1.0962e+07    0   25 1.0972e+07 1.0962e+07  0.09%     -    0s\n",
      "     0     0 1.0962e+07    0   26 1.0972e+07 1.0962e+07  0.09%     -    0s\n",
      "     0     0 1.0962e+07    0   27 1.0972e+07 1.0962e+07  0.09%     -    0s\n",
      "     0     0 1.0964e+07    0   26 1.0972e+07 1.0964e+07  0.07%     -    0s\n",
      "     0     0 1.0965e+07    0   22 1.0972e+07 1.0965e+07  0.06%     -    0s\n",
      "     0     0 1.0965e+07    0   25 1.0972e+07 1.0965e+07  0.06%     -    0s\n",
      "     0     0 1.0965e+07    0   24 1.0972e+07 1.0965e+07  0.06%     -    0s\n",
      "     0     0 1.0965e+07    0   28 1.0972e+07 1.0965e+07  0.06%     -    0s\n",
      "     0     0 1.0965e+07    0   29 1.0972e+07 1.0965e+07  0.06%     -    0s\n",
      "     0     0 1.0965e+07    0   25 1.0972e+07 1.0965e+07  0.06%     -    0s\n",
      "     0     0 1.0965e+07    0   25 1.0972e+07 1.0965e+07  0.06%     -    0s\n",
      "     0     0 1.0965e+07    0    5 1.0972e+07 1.0965e+07  0.06%     -    0s\n",
      "     0     0 1.0965e+07    0    7 1.0972e+07 1.0965e+07  0.06%     -    0s\n",
      "     0     0 1.0965e+07    0   10 1.0972e+07 1.0965e+07  0.06%     -    0s\n",
      "     0     0 1.0965e+07    0   15 1.0972e+07 1.0965e+07  0.06%     -    0s\n",
      "     0     0 1.0965e+07    0   12 1.0972e+07 1.0965e+07  0.06%     -    0s\n",
      "     0     0 1.0965e+07    0   15 1.0972e+07 1.0965e+07  0.06%     -    0s\n",
      "     0     0 1.0965e+07    0   20 1.0972e+07 1.0965e+07  0.06%     -    0s\n",
      "     0     0 1.0965e+07    0   12 1.0972e+07 1.0965e+07  0.06%     -    0s\n",
      "     0     0 1.0965e+07    0   17 1.0972e+07 1.0965e+07  0.06%     -    0s\n",
      "     0     0 1.0965e+07    0   26 1.0972e+07 1.0965e+07  0.06%     -    0s\n",
      "     0     0 1.0965e+07    0   26 1.0972e+07 1.0965e+07  0.06%     -    0s\n",
      "     0     0 1.0965e+07    0   23 1.0972e+07 1.0965e+07  0.06%     -    0s\n",
      "     0     0 1.0966e+07    0   26 1.0972e+07 1.0966e+07  0.06%     -    0s\n",
      "     0     0 1.0966e+07    0   23 1.0972e+07 1.0966e+07  0.05%     -    0s\n",
      "     0     0 1.0967e+07    0   26 1.0972e+07 1.0967e+07  0.04%     -    0s\n",
      "     0     0 1.0967e+07    0   26 1.0972e+07 1.0967e+07  0.04%     -    0s\n",
      "     0     0 1.0967e+07    0   26 1.0972e+07 1.0967e+07  0.04%     -    0s\n",
      "     0     0 1.0968e+07    0   26 1.0972e+07 1.0968e+07  0.04%     -    0s\n",
      "     0     0 1.0968e+07    0   28 1.0972e+07 1.0968e+07  0.04%     -    0s\n",
      "     0     0 1.0968e+07    0   27 1.0972e+07 1.0968e+07  0.04%     -    0s\n",
      "     0     0 1.0969e+07    0   21 1.0972e+07 1.0969e+07  0.02%     -    0s\n",
      "     0     0 1.0970e+07    0   19 1.0972e+07 1.0970e+07  0.01%     -    0s\n",
      "\n",
      "Cutting planes:\n",
      "  Cover: 2\n",
      "  MIR: 7\n",
      "  StrongCG: 6\n",
      "\n",
      "Explored 1 nodes (753 simplex iterations) in 0.48 seconds (0.03 work units)\n",
      "Thread count was 8 (of 8 available processors)\n",
      "\n",
      "Solution count 6: 1.09718e+07 1.10328e+07 1.10919e+07 ... 1.24349e+07\n",
      "\n",
      "Optimal solution found (tolerance 1.00e-04)\n",
      "Best objective 1.097177704607e+07, best bound 1.097177704607e+07, gap 0.0000%\n",
      "\n",
      "    Variable            X \n",
      "-------------------------\n",
      "Physician i, Staffed On Shift j, on Day k[0,2,2]            1 \n",
      "Physician i, Staffed On Shift j, on Day k[3,0,0]            1 \n",
      "Physician i, Staffed On Shift j, on Day k[3,0,1]            1 \n",
      "Physician i, Staffed On Shift j, on Day k[3,0,2]            1 \n",
      "Physician i, Staffed On Shift j, on Day k[4,0,1]            1 \n",
      "Physician i, Staffed On Shift j, on Day k[4,1,0]            1 \n",
      "Physician i, Staffed On Shift j, on Day k[5,1,0]            1 \n",
      "Physician i, Staffed On Shift j, on Day k[5,2,1]            1 \n",
      "Physician i, Staffed On Shift j, on Day k[6,0,2]            1 \n",
      "Physician i, Staffed On Shift j, on Day k[9,0,2]            1 \n",
      "Physician i, Staffed On Shift j, on Day k[9,1,1]            1 \n",
      "Physician i, Staffed On Shift j, on Day k[10,0,1]            1 \n",
      "Physician i, Staffed On Shift j, on Day k[13,0,0]            1 \n",
      "Physician i, Staffed On Shift j, on Day k[14,0,0]            1 \n",
      "Physician i, Staffed On Shift j, on Day k[14,0,1]            1 \n",
      "Physician i, Staffed On Shift j, on Day k[14,0,2]            1 \n",
      "Physician i, Staffed On Shift j, on Day k[15,0,0]            1 \n",
      "Physician i, Staffed On Shift j, on Day k[16,0,0]            1 \n",
      "Physician i, Staffed On Shift j, on Day k[16,1,1]            1 \n",
      "Physician i, Staffed On Shift j, on Day k[16,1,2]            1 \n",
      "Physician i, Staffed On Shift j, on Day k[18,0,2]            1 \n",
      "Physician i, Staffed On Shift j, on Day k[23,1,0]            1 \n",
      "Physician i, Staffed On Shift j, on Day k[24,0,0]            1 \n",
      "Physician i, Staffed On Shift j, on Day k[24,0,1]            1 \n",
      "Physician i, Staffed On Shift j, on Day k[24,1,2]            1 \n",
      "Physician i, Staffed On Shift j, on Day k[25,0,1]            1 \n",
      "Physician i, Staffed On Shift j, on Day k[26,2,0]            1 \n"
     ]
    }
   ],
   "source": [
    "# Optimally solve the problem\n",
    "model.optimize()\n",
    "\n",
    "# Print the objective and decision variables\n",
    "model.printAttr('X')"
   ]
  }
 ],
 "metadata": {
  "kernelspec": {
   "display_name": "Python 3.10.6 64-bit",
   "language": "python",
   "name": "python3"
  },
  "language_info": {
   "codemirror_mode": {
    "name": "ipython",
    "version": 3
   },
   "file_extension": ".py",
   "mimetype": "text/x-python",
   "name": "python",
   "nbconvert_exporter": "python",
   "pygments_lexer": "ipython3",
   "version": "3.8.0"
  },
  "orig_nbformat": 4,
  "vscode": {
   "interpreter": {
    "hash": "aee8b7b246df8f9039afb4144a1f6fd8d2ca17a180786b69acc140d282b71a49"
   }
  }
 },
 "nbformat": 4,
 "nbformat_minor": 2
}
